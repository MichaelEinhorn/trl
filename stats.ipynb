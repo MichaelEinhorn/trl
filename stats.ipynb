{
 "cells": [
  {
   "cell_type": "raw",
   "id": "037b3063-c688-46c1-8468-e05973e11e9d",
   "metadata": {
    "tags": []
   },
   "source": [
    "import torch\n",
    "alg_name = \"ppo\"\n",
    "stats = torch.load(\"stats/ppo_epoch_11-step_96.pt\")\n",
    "# stats = torch.load(f\"stats/{alg_name}_epoch_2-step_24.pt\")\n",
    "print(stats.keys())"
   ]
  },
  {
   "cell_type": "code",
   "execution_count": 11,
   "id": "9dd7b112-9cf9-4b55-8f80-b391f2634974",
   "metadata": {
    "tags": []
   },
   "outputs": [
    {
     "name": "stdout",
     "output_type": "stream",
     "text": [
      "0.0\n",
      "[0.1996] [-0.0998] [0.] -7.324\n"
     ]
    },
    {
     "data": {
      "text/plain": [
       "array([0.2993], dtype=float16)"
      ]
     },
     "execution_count": 11,
     "metadata": {},
     "output_type": "execute_result"
    }
   ],
   "source": [
    "print(stats[\"objective/kl_coef\"])\n",
    "print(stats[f\"{alg_name}/loss/total\"], \n",
    "      stats[f\"{alg_name}/loss/policy\"], \n",
    "      stats[f\"{alg_name}/loss/kl\"] * stats[\"objective/kl_coef\"], \n",
    "      stats[f'{alg_name}/mean_non_score_reward'])\n",
    "stats[f\"{alg_name}/loss/value\"] * stats['objective/vf_coef']"
   ]
  },
  {
   "cell_type": "code",
   "execution_count": 12,
   "id": "da2cff04-84db-426f-b70e-dbcbff027d52",
   "metadata": {},
   "outputs": [
    {
     "name": "stdout",
     "output_type": "stream",
     "text": [
      "time/ppo/optimize_step 211.9261713027954\n",
      "time/ppo/game_time 158.41856408119202\n",
      "time/filesystem/save_model 0\n",
      "time/filesystem/save_stats 0.003984689712524414\n",
      "time/ppo/calc_stats 0.010308027267456055\n"
     ]
    }
   ],
   "source": [
    "for k in stats:\n",
    "    if \"time\" in k:\n",
    "        print(k, stats[k])"
   ]
  },
  {
   "cell_type": "code",
   "execution_count": null,
   "id": "44cbf332-5377-46aa-be9d-d18d0a518555",
   "metadata": {},
   "outputs": [],
   "source": []
  }
 ],
 "metadata": {
  "kernelspec": {
   "display_name": "Python 3",
   "language": "python",
   "name": "python3"
  },
  "language_info": {
   "codemirror_mode": {
    "name": "ipython",
    "version": 3
   },
   "file_extension": ".py",
   "mimetype": "text/x-python",
   "name": "python",
   "nbconvert_exporter": "python",
   "pygments_lexer": "ipython3",
   "version": "3.8.10"
  }
 },
 "nbformat": 4,
 "nbformat_minor": 5
}
