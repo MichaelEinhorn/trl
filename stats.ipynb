{
 "cells": [
  {
   "cell_type": "code",
   "execution_count": 1,
   "id": "f6521ebd-8965-4069-8354-5ebbb9228bfe",
   "metadata": {
    "execution": {
     "iopub.execute_input": "2022-10-11T19:13:15.775501Z",
     "iopub.status.busy": "2022-10-11T19:13:15.774316Z",
     "iopub.status.idle": "2022-10-11T19:13:16.757686Z",
     "shell.execute_reply": "2022-10-11T19:13:16.756374Z",
     "shell.execute_reply.started": "2022-10-11T19:13:15.775423Z"
    }
   },
   "outputs": [
    {
     "name": "stdout",
     "output_type": "stream",
     "text": [
      "dict_keys(['objective/kl', 'objective/kl_dist', 'objective/kl_rew', 'objective/kl_dist_rew', 'objective/kl_coef', 'objective/kl_coef_rew', 'objective/vf_coef', 'objective/entropy', 'ppo/mean_non_score_reward', 'ppo/loss/policy', 'ppo/loss/value', 'ppo/loss/kl', 'ppo/loss/total', 'ppo/policy/entropy', 'ppo/policy/approxkl', 'ppo/policy/policykl', 'ppo/policy/clipfrac', 'ppo/policy/advantages', 'ppo/policy/advantages_mean', 'ppo/policy/ratio', 'ppo/returns/mean', 'ppo/returns/var', 'ppo/val/vpred', 'ppo/val/error', 'ppo/val/clipfrac', 'ppo/val/mean', 'ppo/val/var', 'ppo/val/var_explained', 'time/ppo/optimize_step', 'time/ppo/game_time', 'time/filesystem/save_model', 'time/filesystem/save_stats', 'time/ppo/calc_stats'])\n"
     ]
    }
   ],
   "source": [
    "import torch\n",
    "stats = torch.load(\"stats/ppo_epoch_0-step_32.pt\")\n",
    "print(stats.keys())"
   ]
  },
  {
   "cell_type": "code",
   "execution_count": 2,
   "id": "9dd7b112-9cf9-4b55-8f80-b391f2634974",
   "metadata": {
    "execution": {
     "iopub.execute_input": "2022-10-11T19:13:19.511646Z",
     "iopub.status.busy": "2022-10-11T19:13:19.511229Z",
     "iopub.status.idle": "2022-10-11T19:13:19.519181Z",
     "shell.execute_reply": "2022-10-11T19:13:19.517639Z",
     "shell.execute_reply.started": "2022-10-11T19:13:19.511620Z"
    }
   },
   "outputs": [
    {
     "name": "stdout",
     "output_type": "stream",
     "text": [
      "[0.2352] [0.0227] [-0.009346] 0.0 [0.2218]\n"
     ]
    }
   ],
   "source": [
    "print(stats[\"ppo/loss/total\"], \n",
    "      stats[\"ppo/loss/policy\"], \n",
    "      stats[\"ppo/loss/kl\"] * stats[\"objective/kl_coef\"], \n",
    "      stats['ppo/mean_non_score_reward'], \n",
    "      stats[\"ppo/loss/value\"] * stats['objective/vf_coef'])"
   ]
  },
  {
   "cell_type": "code",
   "execution_count": null,
   "id": "da2cff04-84db-426f-b70e-dbcbff027d52",
   "metadata": {},
   "outputs": [],
   "source": []
  }
 ],
 "metadata": {
  "kernelspec": {
   "display_name": "Python 3 (ipykernel)",
   "language": "python",
   "name": "python3"
  },
  "language_info": {
   "codemirror_mode": {
    "name": "ipython",
    "version": 3
   },
   "file_extension": ".py",
   "mimetype": "text/x-python",
   "name": "python",
   "nbconvert_exporter": "python",
   "pygments_lexer": "ipython3",
   "version": "3.9.13"
  }
 },
 "nbformat": 4,
 "nbformat_minor": 5
}
