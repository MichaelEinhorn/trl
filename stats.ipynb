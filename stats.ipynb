{
 "cells": [
  {
   "cell_type": "code",
   "execution_count": 31,
   "id": "037b3063-c688-46c1-8468-e05973e11e9d",
   "metadata": {
    "tags": []
   },
   "outputs": [
    {
     "name": "stdout",
     "output_type": "stream",
     "text": [
      "dict_keys(['objective/kl', 'objective/kl_dist', 'objective/kl_rew', 'objective/kl_dist_rew', 'objective/kl_coef', 'objective/kl_coef_rew', 'objective/vf_coef', 'objective/entropy', 'ppo/mean_non_score_reward', 'ppo/loss/policy', 'ppo/loss/value', 'ppo/loss/kl', 'ppo/loss/ent', 'ppo/loss/total', 'ppo/policy/entropy', 'ppo/policy/approxkl', 'ppo/policy/policykl', 'ppo/policy/clipfrac', 'ppo/policy/advantages', 'ppo/policy/advantages_mean', 'ppo/policy/ratio', 'ppo/returns/mean', 'ppo/returns/var', 'ppo/val/vpred', 'ppo/val/error', 'ppo/val/clipfrac', 'ppo/val/mean', 'ppo/val/var', 'ppo/val/var_explained', 'time/ppo/optimize_step', 'time/ppo/game_time', 'time/filesystem/save_model', 'time/filesystem/save_stats', 'time/ppo/calc_stats', 'params/alg_name', 'params/lr', 'params/reference', 'params/adap_kl_ctrl', 'params/init_kl_coef', 'params/target', 'params/horizon', 'params/adap_kl_ctrl_rew', 'params/init_kl_coef_rew', 'params/target_rew', 'params/horizon_rew', 'params/whiten_adv', 'params/gamma', 'params/lam', 'params/cliprange', 'params/cliprange_value', 'params/vf_coef', 'params/batch_size', 'params/forward_batch_size', 'params/epochs_per_game', 'params/game_gamma', 'params/few_shot', 'params/ent_coef', 'params/value_head_layers', 'params/value_head_scale', 'params/value_head_detach', 'params/log_freq', 'params/num_agents', 'params/single_game', 'config/torch_dtype', 'config/tie_word_embeddings', 'config/architectures', 'config/bos_token_id', 'config/eos_token_id', 'config/_name_or_path', 'config/transformers_version', 'config/attention_probs_dropout_prob', 'config/hidden_dropout_prob', 'config/model_type', 'config/vocab_size', 'config/max_position_embeddings', 'config/hidden_size', 'config/num_hidden_layers', 'config/num_attention_heads', 'config/intermediate_size', 'config/hidden_act', 'config/rotary_pct', 'config/rotary_emb_base', 'config/initializer_range', 'config/layer_norm_eps', 'config/use_cache', 'config/use_parallel_residual'])\n"
     ]
    }
   ],
   "source": [
    "import torch\n",
    "import glob\n",
    "import numpy as np\n",
    "import matplotlib.pyplot as plt\n",
    "from core import stack_stat_dicts, stats_to_np\n",
    "dir_name = \"stats\"\n",
    "alg_name = \"ppo\"\n",
    "prefix = f\"{dir_name}/{alg_name}\"\n",
    "files = glob.glob(f\"{prefix}*.pt\")\n",
    "files.sort()\n",
    "\n",
    "epochs = []\n",
    "steps = []\n",
    "for f in files:\n",
    "    epochs.append(int(f.split(\"epoch_\")[-1].split(\"-\")[0]))\n",
    "    steps.append(int(f.split(\"step_\")[-1].split(\".\")[0]))\n",
    "idx = np.argsort(epochs)\n",
    "epochs.sort()\n",
    "steps.sort()\n",
    "\n",
    "print(files)\n",
    "\n",
    "stats = [torch.load(files[idx[i]]) for i in range(len(files))]\n",
    "# print(stats[0].keys())\n",
    "stats = stats_to_np(stack_stat_dicts(stats))\n",
    "    \n",
    "stats[\"epochs\"] = epochs\n",
    "stats[\"steps\"] = steps\n",
    "\n",
    "print(epochs)\n",
    "print(steps)\n",
    "print(stats.keys())\n",
    "saveFigs = True"
   ]
  },
  {
   "cell_type": "code",
   "execution_count": 32,
   "id": "9dd7b112-9cf9-4b55-8f80-b391f2634974",
   "metadata": {
    "tags": []
   },
   "outputs": [
    {
     "name": "stdout",
     "output_type": "stream",
     "text": [
      "0.05\n",
      "t [0.1617] pg [0.1287] kl [0.01875] ent [-0.] kl_rew 0.0\n",
      "vf [0.01427]\n",
      "clip [0.01991596]\n"
     ]
    }
   ],
   "source": [
    "# plot rewards\n",
    "fig = plt.figure(1)\n",
    "for k in stats.keys():\n",
    "    if (\"score\" in k or \"reward\" in k) and \"params\" not in k and \"config\" not in k:\n",
    "        print(k)\n",
    "        plt.plot(stats[\"epochs\"], stats[k], label=k)\n",
    "plt.legend(loc='upper right', bbox_to_anchor=(1.6, 1.05))\n",
    "plt.title(alg_name + \" rewards\")\n",
    "if saveFigs:\n",
    "    fig.savefig(f\"{prefix}_rewards.jpg\", bbox_inches='tight')\n",
    "plt.show()"
   ]
  },
  {
   "cell_type": "code",
   "execution_count": 30,
   "id": "da2cff04-84db-426f-b70e-dbcbff027d52",
   "metadata": {},
   "outputs": [
    {
     "name": "stdout",
     "output_type": "stream",
     "text": [
      "time/ppo/optimize_step 299.37334179878235\n",
      "time/ppo/game_time 165.2152955532074\n",
      "time/filesystem/save_model 0\n",
      "time/filesystem/save_stats 0\n",
      "time/ppo/calc_stats 0.01858973503112793\n"
     ]
    }
   ],
   "source": [
    "# plot all losses\n",
    "fig = plt.figure(2)\n",
    "plt.title(alg_name + \" losses\")\n",
    "for k in stats.keys():\n",
    "    if (\"loss\" in k) and \"params\" not in k and \"config\" not in k:\n",
    "        print(k)\n",
    "        plt.plot(stats[\"epochs\"], stats[k], label=k)\n",
    "plt.legend(bbox_to_anchor=(1.0, 1.05))\n",
    "if saveFigs:\n",
    "    fig.savefig(f\"{prefix}_losses.jpg\", bbox_inches='tight')\n",
    "plt.show()\n"
   ]
  },
  {
   "cell_type": "code",
   "execution_count": null,
   "id": "44cbf332-5377-46aa-be9d-d18d0a518555",
   "metadata": {},
   "outputs": [
    {
     "ename": "",
     "evalue": "",
     "output_type": "error",
     "traceback": [
      "\u001b[1;31mFailed to start the Kernel. \n",
      "\u001b[1;31mOSError: [WinError 123] The filename, directory name, or volume label syntax is incorrect: '\"c:'. \n",
      "\u001b[1;31mView Jupyter <a href='command:jupyter.viewOutput'>log</a> for further details."
     ]
    }
   ],
   "source": [
    "fig = plt.figure(3)\n",
    "plt.title(alg_name + \" value stats\")\n",
    "for k in stats.keys():\n",
    "    if (\"val\" in k) and \"loss\" not in k and \"params\" not in k and \"config\" not in k: \n",
    "        print(k)\n",
    "        plt.plot(stats[\"epochs\"], stats[k], label=k)\n",
    "plt.legend(bbox_to_anchor=(1.0, 1.05))\n",
    "if saveFigs:\n",
    "    fig.savefig(f\"{prefix}_value.jpg\", bbox_inches='tight')\n",
    "plt.show()"
   ]
  },
  {
   "cell_type": "code",
   "execution_count": null,
   "id": "653d1e1d",
   "metadata": {},
   "outputs": [],
   "source": []
  },
  {
   "cell_type": "code",
   "execution_count": null,
   "id": "277bf57f",
   "metadata": {},
   "outputs": [],
   "source": [
    "fig = plt.figure(5)\n",
    "plt.title(alg_name + \" policy stats\")\n",
    "for k in stats.keys():\n",
    "    if (\"policy\" in k) and \"loss\" not in k and \"params\" not in k and \"config\" not in k and \"kl\" not in k: \n",
    "        print(k)\n",
    "        if k != f\"{alg_name}/policy/advantages\" and k != f\"{alg_name}/policy/ratio\":\n",
    "            plt.plot(stats[\"epochs\"], stats[k], label=k)\n",
    "plt.legend(bbox_to_anchor=(1.0, 1.05))\n",
    "if saveFigs:\n",
    "    fig.savefig(f\"{prefix}_policy.jpg\", bbox_inches='tight')\n",
    "plt.show()"
   ]
  },
  {
   "cell_type": "code",
   "execution_count": null,
   "id": "5b21f9a5",
   "metadata": {},
   "outputs": [],
   "source": [
    "fig = plt.figure(6)\n",
    "plt.title(alg_name + \" clip fracs\")\n",
    "for k in stats.keys():\n",
    "    if (\"clip\" in k) and \"params\" not in k and \"config\" not in k: \n",
    "        print(k)\n",
    "        plt.plot(stats[\"epochs\"], stats[k], label=k)\n",
    "plt.legend(bbox_to_anchor=(1.44, 1.05))\n",
    "if saveFigs:\n",
    "    fig.savefig(f\"{prefix}_clip.jpg\", bbox_inches='tight')\n",
    "plt.show()"
   ]
  },
  {
   "cell_type": "code",
   "execution_count": null,
   "id": "29a10747",
   "metadata": {},
   "outputs": [],
   "source": [
    "fig = plt.figure(7)\n",
    "plt.title(alg_name + \" time stats\")\n",
    "for k in stats.keys():\n",
    "    if (\"time\" in k) and \"params\" not in k and \"config\" not in k: \n",
    "        print(k)\n",
    "        plt.plot(stats[\"epochs\"], stats[k], label=k)\n",
    "plt.legend(bbox_to_anchor=(1.0, 1.05))\n",
    "if saveFigs:\n",
    "    fig.savefig(f\"{prefix}_time.jpg\", bbox_inches='tight')\n",
    "plt.show()"
   ]
  },
  {
   "cell_type": "code",
   "execution_count": null,
   "id": "d8ae913c",
   "metadata": {},
   "outputs": [],
   "source": []
  },
  {
   "cell_type": "code",
   "execution_count": null,
   "id": "46e857ce",
   "metadata": {},
   "outputs": [],
   "source": []
  },
  {
   "cell_type": "code",
   "execution_count": null,
   "id": "5193502f",
   "metadata": {},
   "outputs": [],
   "source": []
  }
 ],
 "metadata": {
  "kernelspec": {
   "display_name": "Python 3.7.3 64-bit",
   "language": "python",
   "name": "python3"
  },
  "language_info": {
   "codemirror_mode": {
    "name": "ipython",
    "version": 3
   },
   "file_extension": ".py",
   "mimetype": "text/x-python",
   "name": "python",
   "nbconvert_exporter": "python",
   "pygments_lexer": "ipython3",
   "version": "3.7.3"
  },
  "vscode": {
   "interpreter": {
    "hash": "3b839153e13da8333e687d0fea12db3ad5ee8992974d226aeda93e4063c64179"
   }
  }
 },
 "nbformat": 4,
 "nbformat_minor": 5
}
