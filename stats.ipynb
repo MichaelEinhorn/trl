{
 "cells": [
  {
   "cell_type": "code",
   "execution_count": 9,
   "id": "f6521ebd-8965-4069-8354-5ebbb9228bfe",
   "metadata": {
    "tags": []
   },
   "outputs": [
    {
     "name": "stdout",
     "output_type": "stream",
     "text": [
      "dict_keys(['objective/kl', 'objective/kl_dist', 'objective/kl_rew', 'objective/kl_dist_rew', 'objective/kl_coef', 'objective/kl_coef_rew', 'objective/vf_coef', 'objective/entropy', 'ppo/mean_non_score_reward', 'ppo/loss/policy', 'ppo/loss/value', 'ppo/loss/kl', 'ppo/loss/total', 'ppo/policy/entropy', 'ppo/policy/approxkl', 'ppo/policy/policykl', 'ppo/policy/clipfrac', 'ppo/policy/advantages', 'ppo/policy/advantages_mean', 'ppo/policy/ratio', 'ppo/returns/mean', 'ppo/returns/var', 'ppo/val/vpred', 'ppo/val/error', 'ppo/val/clipfrac', 'ppo/val/mean', 'ppo/val/var', 'ppo/val/var_explained', 'time/ppo/optimize_step', 'time/ppo/game_time', 'time/filesystem/save_model', 'time/filesystem/save_stats', 'time/ppo/calc_stats'])\n"
     ]
    }
   ],
   "source": [
    "import torch\n",
    "alg_name = \"ppo\"\n",
    "stats = torch.load(\"stats/test.pt\")\n",
    "# stats = torch.load(f\"stats/{alg_name}_epoch_2-step_24.pt\")\n",
    "print(stats.keys())"
   ]
  },
  {
   "cell_type": "code",
   "execution_count": 11,
   "id": "9dd7b112-9cf9-4b55-8f80-b391f2634974",
   "metadata": {
    "tags": []
   },
   "outputs": [
    {
     "name": "stdout",
     "output_type": "stream",
     "text": [
      "[0.538] [0.01888] [0.0382] 0.0\n"
     ]
    },
    {
     "data": {
      "text/plain": [
       "array([0.4812], dtype=float16)"
      ]
     },
     "execution_count": 11,
     "metadata": {},
     "output_type": "execute_result"
    }
   ],
   "source": [
    "print(stats[f\"{alg_name}/loss/total\"], \n",
    "      stats[f\"{alg_name}/loss/policy\"], \n",
    "      stats[f\"{alg_name}/loss/kl\"] * stats[\"objective/kl_coef\"], \n",
    "      stats[f'{alg_name}/mean_non_score_reward'])\n",
    "stats[f\"{alg_name}/loss/value\"] * stats['objective/vf_coef']"
   ]
  },
  {
   "cell_type": "code",
   "execution_count": null,
   "id": "da2cff04-84db-426f-b70e-dbcbff027d52",
   "metadata": {},
   "outputs": [],
   "source": []
  }
 ],
 "metadata": {
  "kernelspec": {
   "display_name": "Python 3 (ipykernel)",
   "language": "python",
   "name": "python3"
  },
  "language_info": {
   "codemirror_mode": {
    "name": "ipython",
    "version": 3
   },
   "file_extension": ".py",
   "mimetype": "text/x-python",
   "name": "python",
   "nbconvert_exporter": "python",
   "pygments_lexer": "ipython3",
   "version": "3.9.13"
  }
 },
 "nbformat": 4,
 "nbformat_minor": 5
}
