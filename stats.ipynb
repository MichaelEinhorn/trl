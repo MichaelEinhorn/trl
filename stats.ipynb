{
 "cells": [
  {
   "cell_type": "code",
   "execution_count": 31,
   "id": "037b3063-c688-46c1-8468-e05973e11e9d",
   "metadata": {
    "tags": []
   },
   "outputs": [
    {
     "name": "stdout",
     "output_type": "stream",
     "text": [
      "dict_keys(['objective/kl', 'objective/kl_dist', 'objective/kl_rew', 'objective/kl_dist_rew', 'objective/kl_coef', 'objective/kl_coef_rew', 'objective/vf_coef', 'objective/entropy', 'ppo/mean_non_score_reward', 'ppo/loss/policy', 'ppo/loss/value', 'ppo/loss/kl', 'ppo/loss/ent', 'ppo/loss/total', 'ppo/policy/entropy', 'ppo/policy/approxkl', 'ppo/policy/policykl', 'ppo/policy/clipfrac', 'ppo/policy/advantages', 'ppo/policy/advantages_mean', 'ppo/policy/ratio', 'ppo/returns/mean', 'ppo/returns/var', 'ppo/val/vpred', 'ppo/val/error', 'ppo/val/clipfrac', 'ppo/val/mean', 'ppo/val/var', 'ppo/val/var_explained', 'time/ppo/optimize_step', 'time/ppo/game_time', 'time/filesystem/save_model', 'time/filesystem/save_stats', 'time/ppo/calc_stats', 'params/alg_name', 'params/lr', 'params/reference', 'params/adap_kl_ctrl', 'params/init_kl_coef', 'params/target', 'params/horizon', 'params/adap_kl_ctrl_rew', 'params/init_kl_coef_rew', 'params/target_rew', 'params/horizon_rew', 'params/whiten_adv', 'params/gamma', 'params/lam', 'params/cliprange', 'params/cliprange_value', 'params/vf_coef', 'params/batch_size', 'params/forward_batch_size', 'params/epochs_per_game', 'params/game_gamma', 'params/few_shot', 'params/ent_coef', 'params/value_head_layers', 'params/value_head_scale', 'params/value_head_detach', 'params/log_freq', 'params/num_agents', 'params/single_game', 'config/torch_dtype', 'config/tie_word_embeddings', 'config/architectures', 'config/bos_token_id', 'config/eos_token_id', 'config/_name_or_path', 'config/transformers_version', 'config/attention_probs_dropout_prob', 'config/hidden_dropout_prob', 'config/model_type', 'config/vocab_size', 'config/max_position_embeddings', 'config/hidden_size', 'config/num_hidden_layers', 'config/num_attention_heads', 'config/intermediate_size', 'config/hidden_act', 'config/rotary_pct', 'config/rotary_emb_base', 'config/initializer_range', 'config/layer_norm_eps', 'config/use_cache', 'config/use_parallel_residual'])\n"
     ]
    }
   ],
   "source": [
    "import torch\n",
    "alg_name = \"ppo\"\n",
    "stats = torch.load(f\"stats/{alg_name}_epoch_9-step_160.pt\")\n",
    "print(stats.keys())"
   ]
  },
  {
   "cell_type": "code",
   "execution_count": 32,
   "id": "9dd7b112-9cf9-4b55-8f80-b391f2634974",
   "metadata": {
    "tags": []
   },
   "outputs": [
    {
     "name": "stdout",
     "output_type": "stream",
     "text": [
      "0.05\n",
      "t [0.1617] pg [0.1287] kl [0.01875] ent [-0.] kl_rew 0.0\n",
      "vf [0.01427]\n",
      "clip [0.01991596]\n"
     ]
    }
   ],
   "source": [
    "print(stats[\"objective/kl_coef\"])\n",
    "print(\"t\", stats[f\"{alg_name}/loss/total\"], \n",
    "      \"pg\", stats[f\"{alg_name}/loss/policy\"], \n",
    "      \"kl\", stats[f\"{alg_name}/loss/kl\"] * stats[\"objective/kl_coef\"],\n",
    "      \"ent\", stats[f\"{alg_name}/loss/ent\"] * 0,\n",
    "      \"kl_rew\", stats[f'{alg_name}/mean_non_score_reward'])\n",
    "if alg_name == \"ppo\":\n",
    "    print(\"vf\", stats[f\"{alg_name}/loss/value\"] * stats['objective/vf_coef'])\n",
    "    print(\"clip\", stats['ppo/policy/clipfrac'])"
   ]
  },
  {
   "cell_type": "code",
   "execution_count": 30,
   "id": "da2cff04-84db-426f-b70e-dbcbff027d52",
   "metadata": {},
   "outputs": [
    {
     "name": "stdout",
     "output_type": "stream",
     "text": [
      "time/ppo/optimize_step 299.37334179878235\n",
      "time/ppo/game_time 165.2152955532074\n",
      "time/filesystem/save_model 0\n",
      "time/filesystem/save_stats 0\n",
      "time/ppo/calc_stats 0.01858973503112793\n"
     ]
    }
   ],
   "source": [
    "for k in stats:\n",
    "    if \"time\" in k:\n",
    "        print(k, stats[k])"
   ]
  },
  {
   "cell_type": "code",
   "execution_count": null,
   "id": "44cbf332-5377-46aa-be9d-d18d0a518555",
   "metadata": {},
   "outputs": [],
   "source": []
  }
 ],
 "metadata": {
  "kernelspec": {
   "display_name": "Python 3",
   "language": "python",
   "name": "python3"
  },
  "language_info": {
   "codemirror_mode": {
    "name": "ipython",
    "version": 3
   },
   "file_extension": ".py",
   "mimetype": "text/x-python",
   "name": "python",
   "nbconvert_exporter": "python",
   "pygments_lexer": "ipython3",
   "version": "3.8.10"
  },
  "vscode": {
   "interpreter": {
    "hash": "e7370f93d1d0cde622a1f8e1c04877d8463912d04d973331ad4851f04de6915a"
   }
  }
 },
 "nbformat": 4,
 "nbformat_minor": 5
}
